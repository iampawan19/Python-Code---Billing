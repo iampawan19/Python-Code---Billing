{
 "cells": [
  {
   "cell_type": "code",
   "execution_count": 33,
   "metadata": {},
   "outputs": [
    {
     "name": "stdout",
     "output_type": "stream",
     "text": [
      "Updated dummy sheet saved to 'updated-dummy_sheet.csv'\n"
     ]
    },
    {
     "name": "stderr",
     "output_type": "stream",
     "text": [
      "C:\\Users\\pawan\\AppData\\Local\\Temp\\ipykernel_17804\\1438504377.py:58: UserWarning: Could not infer format, so each element will be parsed individually, falling back to `dateutil`. To ensure parsing is consistent and as-expected, please specify a format.\n",
      "  updated_dummy_df['Time'] = pd.to_datetime(updated_dummy_df['Time']).dt.strftime('%H:%M:%S')\n"
     ]
    }
   ],
   "source": [
    "import pandas as pd\n",
    "\n",
    "def read_excel_file(file_path):\n",
    "    try:\n",
    "        # Read Excel file into a DataFrame\n",
    "        df = pd.read_excel(file_path)\n",
    "        return df\n",
    "    except Exception as e:\n",
    "        print(f\"An error occurred while reading the Excel file at {file_path}: {e}\")\n",
    "        return None\n",
    "\n",
    "def update_dummy_file_with_unique_bill_numbers(raw_df, dummy_df):\n",
    "    # Get unique \"Bill Number\" values from raw_df\n",
    "    unique_bill_numbers = raw_df['Bill Number'].unique()\n",
    "\n",
    "    # Update \"Bill Number\" column in dummy_df with unique values\n",
    "    dummy_df['Bill Number'] = unique_bill_numbers\n",
    "\n",
    "    return dummy_df\n",
    "\n",
    "# Replace 'your_file.xlsx' and 'dummy_file.xlsx' with the actual paths to your Excel files\n",
    "raw_file_path = 'C:/Users/pawan/Ponyup -Python/Laketown Billing Upload_25th Nov (1) (1) (1).xlsx'\n",
    "dummy_file_path = 'C:/Users/pawan/Ponyup -Python/PonyUp billing_dummy sheet.xlsx'\n",
    "\n",
    "# Read Excel files\n",
    "raw_df = read_excel_file(raw_file_path)\n",
    "dummy_df = read_excel_file(dummy_file_path)\n",
    "\n",
    "# Update dummy_df with unique \"Bill Number\" values from raw_df\n",
    "updated_dummy_df = update_dummy_file_with_unique_bill_numbers(raw_df, dummy_df)\n",
    "\n",
    "# Group by \"Bill Number\" in raw_df and calculate the sum of \"Bill Amount\"\n",
    "bill_amount_sum = raw_df.groupby('Bill Number')['Bill Amount'].sum()\n",
    "\n",
    "# Map the sum values to the corresponding \"Bill Number\" in updated_dummy_df\n",
    "updated_dummy_df['Bill Amount'] = updated_dummy_df['Bill Number'].map(bill_amount_sum)\n",
    "\n",
    "# Map \"Mobile Number\" from raw_df to updated_dummy_df based on \"Bill Number\"\n",
    "mobile_number_mapping = raw_df.groupby('Bill Number')['Mobile Number'].first()\n",
    "updated_dummy_df['Mobile Number'] = updated_dummy_df['Bill Number'].map(mobile_number_mapping)\n",
    "\n",
    "# Map \"Date\" from raw_df to updated_dummy_df based on \"Bill Number\"\n",
    "date_mapping = raw_df.groupby('Bill Number')['Date'].first()\n",
    "updated_dummy_df['Date'] = updated_dummy_df['Bill Number'].map(date_mapping)\n",
    "\n",
    "# Map \"Name\" from raw_df to updated_dummy_df based on \"Bill Number\"\n",
    "name_mapping = raw_df.groupby('Bill Number')['Name'].first()\n",
    "updated_dummy_df['Name'] = updated_dummy_df['Bill Number'].map(name_mapping)\n",
    "\n",
    "# Map \"Time\" from raw_df to updated_dummy_df based on \"Bill Number\"\n",
    "time_mapping = raw_df.groupby('Bill Number')['Time'].first()\n",
    "updated_dummy_df['Time'] = updated_dummy_df['Bill Number'].map(time_mapping)\n",
    "\n",
    "# Convert \"Date\" column to \"YYYY-MM-DD\" format\n",
    "updated_dummy_df['Date'] = pd.to_datetime(updated_dummy_df['Date']).dt.strftime('%Y-%m-%d')\n",
    "\n",
    "# Convert \"Time\" column to \"HH:MM:SS\" format\n",
    "updated_dummy_df['Time'] = pd.to_datetime(updated_dummy_df['Time']).dt.strftime('%H:%M:%S')\n",
    "\n",
    "# Fill \"Country Code\" column with \"91\"\n",
    "updated_dummy_df['Country Code'] = '91'\n",
    "\n",
    "# Save the updated_dummy_df DataFrame to a CSV file\n",
    "updated_dummy_df.to_csv('D:/updated-Ponyup_sheet12.csv', index=False)\n",
    "\n",
    "# Print a message indicating the CSV file has been saved\n",
    "print(\"Updated dummy sheet saved to 'updated-dummy_sheet.csv'\")\n"
   ]
  },
  {
   "cell_type": "code",
   "execution_count": null,
   "metadata": {},
   "outputs": [],
   "source": []
  }
 ],
 "metadata": {
  "kernelspec": {
   "display_name": "Python 3",
   "language": "python",
   "name": "python3"
  },
  "language_info": {
   "codemirror_mode": {
    "name": "ipython",
    "version": 3
   },
   "file_extension": ".py",
   "mimetype": "text/x-python",
   "name": "python",
   "nbconvert_exporter": "python",
   "pygments_lexer": "ipython3",
   "version": "3.10.9"
  }
 },
 "nbformat": 4,
 "nbformat_minor": 2
}
